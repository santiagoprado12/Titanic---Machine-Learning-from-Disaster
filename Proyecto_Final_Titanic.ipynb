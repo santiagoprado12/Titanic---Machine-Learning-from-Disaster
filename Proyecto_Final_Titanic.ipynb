{
  "nbformat": 4,
  "nbformat_minor": 0,
  "metadata": {
    "colab": {
      "name": "Proyecto Final Titanic",
      "provenance": [],
      "collapsed_sections": [],
      "authorship_tag": "ABX9TyO9mW3FySafFYAsp2W/OEnR",
      "include_colab_link": true
    },
    "kernelspec": {
      "display_name": "R",
      "name": "ir"
    }
  },
  "cells": [
    {
      "cell_type": "markdown",
      "metadata": {
        "id": "view-in-github",
        "colab_type": "text"
      },
      "source": [
        "<a href=\"https://colab.research.google.com/github/santiagoprado12/Titanic---Machine-Learning-from-Disaster/blob/main/Proyecto_Final_Titanic.ipynb\" target=\"_parent\"><img src=\"https://colab.research.google.com/assets/colab-badge.svg\" alt=\"Open In Colab\"/></a>"
      ]
    },
    {
      "cell_type": "code",
      "metadata": {
        "colab": {
          "base_uri": "https://localhost:8080/"
        },
        "id": "Y7sbtkfvrEKJ",
        "outputId": "3f27e3d5-d04b-491c-c62e-0921580854d7"
      },
      "source": [
        "install.packages(\"ggplot2\")\r\n",
        "install.packages(\"Amelia\")\r\n",
        "install.packages(\"caret\")\r\n",
        "install.packages(\"e1071\")"
      ],
      "execution_count": null,
      "outputs": [
        {
          "output_type": "stream",
          "text": [
            "Installing package into ‘/usr/local/lib/R/site-library’\n",
            "(as ‘lib’ is unspecified)\n",
            "\n",
            "Installing package into ‘/usr/local/lib/R/site-library’\n",
            "(as ‘lib’ is unspecified)\n",
            "\n",
            "Installing package into ‘/usr/local/lib/R/site-library’\n",
            "(as ‘lib’ is unspecified)\n",
            "\n",
            "Installing package into ‘/usr/local/lib/R/site-library’\n",
            "(as ‘lib’ is unspecified)\n",
            "\n"
          ],
          "name": "stderr"
        }
      ]
    },
    {
      "cell_type": "code",
      "metadata": {
        "id": "byWZQtrKrJgx"
      },
      "source": [
        "library(ggplot2)\r\n",
        "library(Amelia)\r\n",
        "library(caret)\r\n",
        "library(e1071)"
      ],
      "execution_count": null,
      "outputs": []
    },
    {
      "cell_type": "markdown",
      "metadata": {
        "id": "2-J6X2viP4S1"
      },
      "source": [
        "**Subir archivos**"
      ]
    },
    {
      "cell_type": "code",
      "metadata": {
        "id": "4WunaNq4QBR3"
      },
      "source": [
        "train<-read.csv(\"train.csv\",stringsAsFactors = FALSE)\r\n",
        "test<-read.csv(\"test.csv\",stringsAsFactors = FALSE)\r\n",
        "str(train)\r\n",
        "str(test)"
      ],
      "execution_count": null,
      "outputs": []
    },
    {
      "cell_type": "markdown",
      "metadata": {
        "id": "UGZ1yksnRcpP"
      },
      "source": [
        "**Proporcion de los sobrevivientes**"
      ]
    },
    {
      "cell_type": "code",
      "metadata": {
        "id": "HsqqCembRrpQ"
      },
      "source": [
        "table(train$Survived)\r\n",
        "prop.table(table(train$Survived))"
      ],
      "execution_count": null,
      "outputs": []
    },
    {
      "cell_type": "markdown",
      "metadata": {
        "id": "s5e9hRE0TAK3"
      },
      "source": [
        "**Primera prediccion (todos mueren)**"
      ]
    },
    {
      "cell_type": "code",
      "metadata": {
        "id": "2OSPalmmTEYB"
      },
      "source": [
        "test$Survived<- rep(0,418)\r\n",
        "\r\n",
        "submit<-data.frame(PassengerId=test$PassengerId,Survived=test$Survived)\r\n",
        "write.csv(submit, file = \"allDead.csv\", row.names = FALSE)"
      ],
      "execution_count": null,
      "outputs": []
    },
    {
      "cell_type": "markdown",
      "metadata": {
        "id": "D_HCepCNWQDd"
      },
      "source": [
        "**Porcentaje de supervivencia entre hombres y mujeres**"
      ]
    },
    {
      "cell_type": "code",
      "metadata": {
        "id": "FqSpaIFdWPsq"
      },
      "source": [
        "prop.table(table(train$Survived,train$Sex),2)"
      ],
      "execution_count": null,
      "outputs": []
    },
    {
      "cell_type": "markdown",
      "metadata": {
        "id": "wPIO9zqSbB-I"
      },
      "source": [
        "Del total de los hombres murió el 81.1% y de las mujeres murió el 25.8%"
      ]
    },
    {
      "cell_type": "markdown",
      "metadata": {
        "id": "qJQ26vdTbe2t"
      },
      "source": [
        "**Prediccion 2: hombres mueren, mujeres viven**"
      ]
    },
    {
      "cell_type": "code",
      "metadata": {
        "id": "c-SIVLR8beie"
      },
      "source": [
        "test$Survived<- rep(0,418)\r\n",
        "test$Survived[test$Sex==\"female\"]<-1\r\n",
        "submit<-data.frame(PassengerId=test$PassengerId,Survived=test$Survived)\r\n",
        "write.csv(submit, file = \"allDead.csv\", row.names = FALSE)"
      ],
      "execution_count": null,
      "outputs": []
    },
    {
      "cell_type": "markdown",
      "metadata": {
        "id": "Ly1LffWeg2Jo"
      },
      "source": [
        "**Mujeres y niños primero!!**"
      ]
    },
    {
      "cell_type": "code",
      "metadata": {
        "id": "-Qfyu4Ipg8cM"
      },
      "source": [
        "train$Age[is.na(train[\"Age\"])]=mean(train$Age[!is.na(train[\"Age\"])])\r\n",
        "summary(train$Age)\r\n",
        "\r\n",
        "train$Child<-0\r\n",
        "train$Child[train$Age<18]<-1\r\n",
        "train$Child <- factor(train$Child)\r\n",
        "\r\n",
        "test$Child <- 0\r\n",
        "test$Child[test$Age<18] <- 1\r\n",
        "test$Child <- factor(test$Child)\r\n",
        "\r\n",
        "table(train$Survived[train$Child==1])\r\n",
        "aggregate(Survived ~ Child + Sex, data=train, FUN= function(x) {sum(x)/length(x)})\r\n",
        "#prop.table(table(train$Survived[train$Child==1],train$Sex[train$Child==1]),2)"
      ],
      "execution_count": null,
      "outputs": []
    },
    {
      "cell_type": "markdown",
      "metadata": {
        "id": "YVyU0x0qXLKU"
      },
      "source": [
        "**Teniendo en cuenta el costo del tiquete y la clase**"
      ]
    },
    {
      "cell_type": "code",
      "metadata": {
        "id": "RfWFYABTY4fJ"
      },
      "source": [
        "\r\n",
        "train$FareBin[train$Fare < 10] <- '<10'\r\n",
        "train$FareBin[train$Fare >= 10 & train$Fare<20] <- '10-20'\r\n",
        "train$FareBin[train$Fare >= 20] <- '20+'\r\n",
        "table(train$FareBin)\r\n",
        "aggregate(Survived ~ FareBin + Sex + Pclass, data=train, FUN= function(x) {sum(x)/length(x)})\r\n",
        "\r\n",
        "test$FareBin<- rep(0,418)\r\n",
        "test$FareBin[test$Fare < 10] <- '<10'\r\n",
        "test$FareBin[test$Fare >= 10 & test$Fare<20] <- '10-20'\r\n",
        "test$FareBin[test$Fare >= 20] <- '20+'\r\n",
        "test$Survived<- rep(0,418)\r\n",
        "test$Survived[test$Sex==\"female\"]<-1\r\n",
        "test$Survived[test$Pclass==3 & test$FareBin=='20+']<-0\r\n",
        "submit<-data.frame(PassengerId=test$PassengerId,Survived=test$Survived)\r\n",
        "write.csv(submit, file = \"allDead.csv\", row.names = FALSE)"
      ],
      "execution_count": null,
      "outputs": []
    },
    {
      "cell_type": "markdown",
      "metadata": {
        "id": "3iAKM5_XbPyT"
      },
      "source": [
        "**Teniendo en cuenta el titulo de la persona**"
      ]
    },
    {
      "cell_type": "code",
      "metadata": {
        "id": "m37ibqE8cAMr"
      },
      "source": [
        " train$Title<-0\r\n",
        " \r\n",
        "train$Title<-sapply(train$PassengerId, FUN=function(x){strsplit(train$Name, split='[,.]')[[x]][2]})\r\n",
        "train$Title<-sub(\" \",\"\", train$Title)\r\n",
        "train$Title[train$Title==\"Mlle\"]<-\"Miss\"\r\n",
        " train$Title[train$Title==\"Mme\"]<-\"Mrs\"\r\n",
        "train$Title[train$Title==\"Lady\"]<-\"Miss\" \r\n",
        "train$Title[train$Title==\"Capt\"]<-\"Master\"\r\n",
        "train$Title[train$Title==\"Don\"]<-\"Mr\"\r\n",
        "train$Title[train$Title==\"Dr\"]<-\"Mr\"\r\n",
        "train$Title[train$Title==\"Ms\"]<-\"Miss\"  \r\n",
        "train$Title[train$Title==\"Jonkheer\"]<-\"Mr\"  \r\n",
        "train$Title[train$Title==\"Sir\"]<-\"Mr\" \r\n",
        "train$Title[train$Title==\"Major\"]<-\"Master\"  \r\n",
        "train$Title[train$Title==\"Col\"]<-\"Master\"  \r\n",
        "train$Title[train$Title==\"Rev\"]<-\"Master\"\r\n",
        "train$Title[train$Title==\"the Countess\"]<-\"Mrs\"\r\n",
        "table(train$Title)\r\n",
        "\r\n"
      ],
      "execution_count": null,
      "outputs": []
    },
    {
      "cell_type": "code",
      "metadata": {
        "id": "qEiCODrHzqIN"
      },
      "source": [
        " test$Title<-0\r\n",
        " \r\n",
        "test$Title<-sapply(1:418, FUN=function(x){strsplit(test$Name, split='[,.]')[[x]][2]})\r\n",
        "test$Title<-sub(\" \",\"\", test$Title)\r\n",
        "test$Title[test$Title==\"Mlle\"]<-\"Miss\"\r\n",
        "test$Title[test$Title==\"Mme\"]<-\"Mrs\"\r\n",
        "test$Title[test$Title==\"Lady\"]<-\"Miss\" \r\n",
        "test$Title[test$Title==\"Capt\"]<-\"Master\"\r\n",
        "test$Title[test$Title==\"Don\"]<-\"Mr\"\r\n",
        "test$Title[test$Title==\"Dr\"]<-\"Mr\"\r\n",
        "test$Title[test$Title==\"Ms\"]<-\"Miss\"  \r\n",
        "test$Title[test$Title==\"Jonkheer\"]<-\"Mr\"  \r\n",
        "test$Title[test$Title==\"Sir\"]<-\"Mr\" \r\n",
        "test$Title[test$Title==\"Major\"]<-\"Master\"  \r\n",
        "test$Title[test$Title==\"Col\"]<-\"Master\"  \r\n",
        "test$Title[test$Title==\"Rev\"]<-\"Master\"\r\n",
        "test$Title[test$Title==\"the Countess\"]<-\"Mrs\"\r\n",
        "test$Title[test$Title==\"Dona\"]<-\"Mrs\"\r\n",
        "table(test$Title)"
      ],
      "execution_count": null,
      "outputs": []
    },
    {
      "cell_type": "markdown",
      "metadata": {
        "id": "1kRw7n5voJn3"
      },
      "source": [
        "**Teniendo en cuenta el tamaño de la familia**\r\n"
      ]
    },
    {
      "cell_type": "code",
      "metadata": {
        "id": "112fE2PLfPe9"
      },
      "source": [
        " train$FamilySize<-0\r\n",
        " train$FamilySize<-train$SibSp+train$Parch+1\r\n",
        " test$FamilySize<-0\r\n",
        " test$FamilySize<-test$SibSp+test$Parch+1\r\n",
        "\r\n",
        "print(\"female: \")\r\n",
        "prop.table(table(train$FamilySize[train$Sex=='female'],train$Survived[train$Sex=='female']),1)\r\n",
        "print('male: ')\r\n",
        "prop.table(table(train$FamilySize[train$Sex=='male'],train$Survived[train$Sex=='male']),1)\r\n",
        "ggplot(train, aes(x =FamilySize, fill = factor(Survived)))+ geom_bar(stat='count', position='dodge')+\r\n",
        "scale_x_continuous(breaks=c(1:max(train$FamilySize)))+labs(x = 'Textoetiqueta') + facet_grid(.~Sex)+ theme_minimal()"
      ],
      "execution_count": null,
      "outputs": []
    },
    {
      "cell_type": "code",
      "metadata": {
        "id": "RFafLJ0BYOk8"
      },
      "source": [
        "train$Family<-0\r\n",
        "#familia grande (mas de 4)=0\r\n",
        "#familia pequeña (menos de 4)=1\r\n",
        "train$Family[train$FamilySize<=4]<-1"
      ],
      "execution_count": null,
      "outputs": []
    },
    {
      "cell_type": "code",
      "metadata": {
        "id": "oI6f1Ukgg0ki"
      },
      "source": [
        "missmap(train)\r\n",
        "missmap(test)\r\n",
        "sum(!complete.cases(train$Age))\r\n",
        "sum(!complete.cases(test$Age))\r\n",
        "sum(!complete.cases(test$Fare))"
      ],
      "execution_count": null,
      "outputs": []
    },
    {
      "cell_type": "code",
      "metadata": {
        "id": "5TMZM8UThuHe"
      },
      "source": [
        "train$Age[is.na(train$Age)]<-mean(train$Age[!is.na(train$Age)])\r\n",
        "missmap(train)\r\n",
        "test$Age[is.na(test$Age)]<-mean(test$Age[!is.na(test$Age)])\r\n",
        "test$Fare[is.na(test$Fare)]<-mean(test$Fare[!is.na(test$Fare)])\r\n",
        "missmap(test)"
      ],
      "execution_count": null,
      "outputs": []
    },
    {
      "cell_type": "code",
      "metadata": {
        "id": "HVtk275NxSc_"
      },
      "source": [
        "head(train)"
      ],
      "execution_count": null,
      "outputs": []
    },
    {
      "cell_type": "code",
      "metadata": {
        "id": "RdjK8Sj6yCJF"
      },
      "source": [
        "install.packages(\"randomForest\")\r\n",
        "install.packages(\"rpart\")\r\n",
        "install.packages(\"nnet\")\r\n",
        "install.packages(\"klaR\")\r\n",
        "install.packages(\"C50\")\r\n",
        "install.packages(\"kernlab\")\r\n",
        "install.packages(\"dplyr\")"
      ],
      "execution_count": null,
      "outputs": []
    },
    {
      "cell_type": "code",
      "metadata": {
        "id": "YHxgg_e6yL-u"
      },
      "source": [
        "library(randomForest)\r\n",
        "library(rpart)\r\n",
        "library(klaR)\r\n",
        "library(C50)\r\n",
        "library(nnet)\r\n",
        "library(kernlab)\r\n",
        "library(dplyr)"
      ],
      "execution_count": null,
      "outputs": []
    },
    {
      "cell_type": "code",
      "metadata": {
        "id": "PG4ljVJGxLOe"
      },
      "source": [
        "train$Survived<-factor(train$Survived)\r\n",
        "set.seed(288) #Semilla\r\n",
        "train_control <- trainControl(method=\"cv\",number = 10) #Cross-Validation\r\n",
        "RF <- train(Survived ~ Title + FamilySize + Pclass + Sex + Age + SibSp + Parch \r\n",
        "+ Fare + Embarked, data=train, trControl = train_control, method=\"rf\")\r\n",
        "RF #Mostramos el modelo entrenado"
      ],
      "execution_count": null,
      "outputs": []
    },
    {
      "cell_type": "code",
      "metadata": {
        "id": "qblUuqG1zB9O"
      },
      "source": [
        "importance <- varImp(RF, scale=FALSE)\r\n",
        " plot(importance)"
      ],
      "execution_count": null,
      "outputs": []
    },
    {
      "cell_type": "code",
      "metadata": {
        "id": "NYL6bGqw5cIP"
      },
      "source": [
        "Prediction <- predict(RF, test)\r\n",
        "submit <- data.frame(PassengerId = test$PassengerId, Survived = Prediction)\r\n",
        "write.csv(submit, file = \"RandomForest.csv\", row.names = FALSE)"
      ],
      "execution_count": null,
      "outputs": []
    },
    {
      "cell_type": "code",
      "metadata": {
        "id": "_RLecsitA2mP"
      },
      "source": [
        "\r\n",
        "set.seed(288) #Semilla\r\n",
        "train_control <- trainControl(method=\"cv\",number = 10) #Cross-Validation\r\n",
        "Rnet <- train(Survived ~ Title + FamilySize + Pclass + Sex + Age + SibSp + Parch \r\n",
        "+ Fare + Embarked, data=train, method=\"nnet\",trControl = train_control)\r\n",
        "Rnet #Mostramos el modelo entrenado"
      ],
      "execution_count": null,
      "outputs": []
    },
    {
      "cell_type": "code",
      "metadata": {
        "id": "xFozSIG6EddE"
      },
      "source": [
        "Prediction <- predict(Rnet, test)\r\n",
        "submit <- data.frame(PassengerId = test$PassengerId, Survived = Prediction)\r\n",
        "write.csv(submit, file = \"Neural Network\", row.names = FALSE)"
      ],
      "execution_count": null,
      "outputs": []
    },
    {
      "cell_type": "code",
      "metadata": {
        "id": "6-U1YApPE9Xf"
      },
      "source": [
        "set.seed(288) #Semilla\r\n",
        "train_control <- trainControl(method=\"cv\",number = 10) #Cross-Validation\r\n",
        "Rknn <- train(Survived ~ Title + FamilySize + Pclass + Sex + Age + SibSp + Parch \r\n",
        "+ Fare + Embarked, data=train, method=\"knn\",trControl = train_control)\r\n",
        "Rknn #Mostramos el modelo entrenado"
      ],
      "execution_count": null,
      "outputs": []
    },
    {
      "cell_type": "code",
      "metadata": {
        "id": "2vW4mXmQGSQ3"
      },
      "source": [
        "Prediction <- predict(Rknn, test)\r\n",
        "submit <- data.frame(PassengerId = test$PassengerId, Survived = Prediction)\r\n",
        "write.csv(submit, file = \"knn\", row.names = FALSE)"
      ],
      "execution_count": null,
      "outputs": []
    },
    {
      "cell_type": "code",
      "metadata": {
        "id": "4o7IFCFWE9MG"
      },
      "source": [
        "set.seed(288) #Semilla\r\n",
        "train_control <- trainControl(method=\"cv\",number = 10) #Cross-Validation\r\n",
        "RC50 <- train(Survived ~ Title + FamilySize + Pclass + Sex + Age + SibSp + Parch \r\n",
        "+ Fare + Embarked, data=train, method=\"C5.0\",trControl = train_control)\r\n",
        "RC50 #Mostramos el modelo entrenado"
      ],
      "execution_count": null,
      "outputs": []
    },
    {
      "cell_type": "code",
      "metadata": {
        "id": "l65rHv9oGWcc"
      },
      "source": [
        "Prediction <- predict(RC50, test)\r\n",
        "submit <- data.frame(PassengerId = test$PassengerId, Survived = Prediction)\r\n",
        "write.csv(submit, file = \"C50\", row.names = FALSE)"
      ],
      "execution_count": null,
      "outputs": []
    },
    {
      "cell_type": "code",
      "metadata": {
        "id": "UjTnLW3MFi6_"
      },
      "source": [
        "set.seed(288) #Semilla\r\n",
        "train_control <- trainControl(method=\"cv\",number = 10) #Cross-Validation\r\n",
        "Rsvm <- train(Survived ~ Title + FamilySize + Pclass + Sex + Age + SibSp + Parch \r\n",
        "+ Fare + Embarked, data=train, method=\"svmLinear\",trControl = train_control)\r\n",
        "Rsvm #Mostramos el modelo entrenado"
      ],
      "execution_count": null,
      "outputs": []
    },
    {
      "cell_type": "code",
      "metadata": {
        "id": "uSq3P1EIGZ6B"
      },
      "source": [
        "Prediction <- predict(Rsvm, test)\r\n",
        "submit <- data.frame(PassengerId = test$PassengerId, Survived = Prediction)\r\n",
        "write.csv(submit, file = \"SVM\", row.names = FALSE)"
      ],
      "execution_count": null,
      "outputs": []
    }
  ]
}