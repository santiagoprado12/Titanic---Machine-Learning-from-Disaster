{
  "nbformat": 4,
  "nbformat_minor": 0,
  "metadata": {
    "colab": {
      "name": "Proyecto Final Titanic",
      "provenance": [],
      "collapsed_sections": [],
      "authorship_tag": "ABX9TyNs3vGPycrNryzvl/1CNKwy",
      "include_colab_link": true
    },
    "kernelspec": {
      "name": "ir",
      "display_name": "R"
    }
  },
  "cells": [
    {
      "cell_type": "markdown",
      "metadata": {
        "id": "view-in-github",
        "colab_type": "text"
      },
      "source": [
        "<a href=\"https://colab.research.google.com/github/santiagoprado12/Titanic---Machine-Learning-from-Disaster/blob/main/Proyecto_Final_Titanic.ipynb\" target=\"_parent\"><img src=\"https://colab.research.google.com/assets/colab-badge.svg\" alt=\"Open In Colab\"/></a>"
      ]
    },
    {
      "cell_type": "markdown",
      "metadata": {
        "id": "2-J6X2viP4S1"
      },
      "source": [
        "**Subir archivos**"
      ]
    },
    {
      "cell_type": "code",
      "metadata": {
        "colab": {
          "base_uri": "https://localhost:8080/"
        },
        "id": "4WunaNq4QBR3",
        "outputId": "e7e52ee5-e030-4168-c16e-55dca11ca029"
      },
      "source": [
        "train<-read.csv(\"train.csv\",stringsAsFactors = FALSE)\r\n",
        "test<-read.csv(\"test.csv\",stringsAsFactors = FALSE)\r\n",
        "str(train)\r\n",
        "str(test)"
      ],
      "execution_count": 36,
      "outputs": [
        {
          "output_type": "stream",
          "text": [
            "'data.frame':\t891 obs. of  12 variables:\n",
            " $ PassengerId: int  1 2 3 4 5 6 7 8 9 10 ...\n",
            " $ Survived   : int  0 1 1 1 0 0 0 0 1 1 ...\n",
            " $ Pclass     : int  3 1 3 1 3 3 1 3 3 2 ...\n",
            " $ Name       : chr  \"Braund, Mr. Owen Harris\" \"Cumings, Mrs. John Bradley (Florence Briggs Thayer)\" \"Heikkinen, Miss. Laina\" \"Futrelle, Mrs. Jacques Heath (Lily May Peel)\" ...\n",
            " $ Sex        : chr  \"male\" \"female\" \"female\" \"female\" ...\n",
            " $ Age        : num  22 38 26 35 35 NA 54 2 27 14 ...\n",
            " $ SibSp      : int  1 1 0 1 0 0 0 3 0 1 ...\n",
            " $ Parch      : int  0 0 0 0 0 0 0 1 2 0 ...\n",
            " $ Ticket     : chr  \"A/5 21171\" \"PC 17599\" \"STON/O2. 3101282\" \"113803\" ...\n",
            " $ Fare       : num  7.25 71.28 7.92 53.1 8.05 ...\n",
            " $ Cabin      : chr  \"\" \"C85\" \"\" \"C123\" ...\n",
            " $ Embarked   : chr  \"S\" \"C\" \"S\" \"S\" ...\n",
            "'data.frame':\t418 obs. of  11 variables:\n",
            " $ PassengerId: int  892 893 894 895 896 897 898 899 900 901 ...\n",
            " $ Pclass     : int  3 3 2 3 3 3 3 2 3 3 ...\n",
            " $ Name       : chr  \"Kelly, Mr. James\" \"Wilkes, Mrs. James (Ellen Needs)\" \"Myles, Mr. Thomas Francis\" \"Wirz, Mr. Albert\" ...\n",
            " $ Sex        : chr  \"male\" \"female\" \"male\" \"male\" ...\n",
            " $ Age        : num  34.5 47 62 27 22 14 30 26 18 21 ...\n",
            " $ SibSp      : int  0 1 0 0 1 0 0 1 0 2 ...\n",
            " $ Parch      : int  0 0 0 0 1 0 0 1 0 0 ...\n",
            " $ Ticket     : chr  \"330911\" \"363272\" \"240276\" \"315154\" ...\n",
            " $ Fare       : num  7.83 7 9.69 8.66 12.29 ...\n",
            " $ Cabin      : chr  \"\" \"\" \"\" \"\" ...\n",
            " $ Embarked   : chr  \"Q\" \"S\" \"Q\" \"S\" ...\n"
          ],
          "name": "stdout"
        }
      ]
    },
    {
      "cell_type": "markdown",
      "metadata": {
        "id": "UGZ1yksnRcpP"
      },
      "source": [
        "**Proporcion de los sobrevivientes**"
      ]
    },
    {
      "cell_type": "code",
      "metadata": {
        "id": "HsqqCembRrpQ"
      },
      "source": [
        "table(train$Survived)\r\n",
        "prop.table(table(train$Survived))"
      ],
      "execution_count": null,
      "outputs": []
    },
    {
      "cell_type": "markdown",
      "metadata": {
        "id": "s5e9hRE0TAK3"
      },
      "source": [
        "**Primera prediccion (todos mueren)**"
      ]
    },
    {
      "cell_type": "code",
      "metadata": {
        "id": "2OSPalmmTEYB"
      },
      "source": [
        "test$Survived<- rep(0,418)\r\n",
        "\r\n",
        "submit<-data.frame(PassengerId=test$PassengerId,Survived=test$Survived)\r\n",
        "write.csv(submit, file = \"allDead.csv\", row.names = FALSE)"
      ],
      "execution_count": 14,
      "outputs": []
    },
    {
      "cell_type": "markdown",
      "metadata": {
        "id": "D_HCepCNWQDd"
      },
      "source": [
        "**Porcentaje de supervivencia entre hombres y mujeres**"
      ]
    },
    {
      "cell_type": "code",
      "metadata": {
        "colab": {
          "base_uri": "https://localhost:8080/",
          "height": 85
        },
        "id": "FqSpaIFdWPsq",
        "outputId": "08d7fea7-9d0b-41c3-9ec9-998fab2cc9ac"
      },
      "source": [
        "prop.table(table(train$Survived,train$Sex),2)"
      ],
      "execution_count": 31,
      "outputs": [
        {
          "output_type": "display_data",
          "data": {
            "text/plain": [
              "   \n",
              "       female      male\n",
              "  0 0.2579618 0.8110919\n",
              "  1 0.7420382 0.1889081"
            ]
          },
          "metadata": {
            "tags": []
          }
        }
      ]
    },
    {
      "cell_type": "markdown",
      "metadata": {
        "id": "wPIO9zqSbB-I"
      },
      "source": [
        "Del total de los hombres murió el 81.1% y de las mujeres murió el 25.8%"
      ]
    },
    {
      "cell_type": "markdown",
      "metadata": {
        "id": "qJQ26vdTbe2t"
      },
      "source": [
        "**Prediccion 2: hombres mueren, mujeres viven**"
      ]
    },
    {
      "cell_type": "code",
      "metadata": {
        "id": "c-SIVLR8beie"
      },
      "source": [
        "test$Survived<- rep(0,418)\r\n",
        "test$Survived[test$Sex==\"female\"]<-1\r\n",
        "submit<-data.frame(PassengerId=test$PassengerId,Survived=test$Survived)\r\n",
        "write.csv(submit, file = \"allDead.csv\", row.names = FALSE)"
      ],
      "execution_count": 35,
      "outputs": []
    }
  ]
}