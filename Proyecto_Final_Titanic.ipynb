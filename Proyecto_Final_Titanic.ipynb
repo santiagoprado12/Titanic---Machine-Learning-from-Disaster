{
  "nbformat": 4,
  "nbformat_minor": 0,
  "metadata": {
    "colab": {
      "name": "Proyecto Final Titanic",
      "provenance": [],
      "collapsed_sections": [],
      "authorship_tag": "ABX9TyPgISKglmLn4MkA/+a96NeZ",
      "include_colab_link": true
    },
    "kernelspec": {
      "name": "ir",
      "display_name": "R"
    }
  },
  "cells": [
    {
      "cell_type": "markdown",
      "metadata": {
        "id": "view-in-github",
        "colab_type": "text"
      },
      "source": [
        "<a href=\"https://colab.research.google.com/github/santiagoprado12/Titanic---Machine-Learning-from-Disaster/blob/main/Proyecto_Final_Titanic.ipynb\" target=\"_parent\"><img src=\"https://colab.research.google.com/assets/colab-badge.svg\" alt=\"Open In Colab\"/></a>"
      ]
    },
    {
      "cell_type": "markdown",
      "metadata": {
        "id": "2-J6X2viP4S1"
      },
      "source": [
        "**Subir archivos**"
      ]
    },
    {
      "cell_type": "code",
      "metadata": {
        "id": "4WunaNq4QBR3"
      },
      "source": [
        "train<-read.csv(\"train.csv\",stringsAsFactors = FALSE)\r\n",
        "test<-read.csv(\"test.csv\",stringsAsFactors = FALSE)\r\n",
        "str(train)\r\n",
        "str(test)"
      ],
      "execution_count": null,
      "outputs": []
    },
    {
      "cell_type": "markdown",
      "metadata": {
        "id": "UGZ1yksnRcpP"
      },
      "source": [
        "**Proporcion de los sobrevivientes**"
      ]
    },
    {
      "cell_type": "code",
      "metadata": {
        "id": "HsqqCembRrpQ",
        "colab": {
          "base_uri": "https://localhost:8080/",
          "height": 119
        },
        "outputId": "0719bc72-daea-4e90-b1b5-2502016f2ed8"
      },
      "source": [
        "table(train$Survived)\r\n",
        "prop.table(table(train$Survived))"
      ],
      "execution_count": null,
      "outputs": [
        {
          "output_type": "display_data",
          "data": {
            "text/plain": [
              "\n",
              "  0   1 \n",
              "549 342 "
            ]
          },
          "metadata": {
            "tags": []
          }
        },
        {
          "output_type": "display_data",
          "data": {
            "text/plain": [
              "\n",
              "        0         1 \n",
              "0.6161616 0.3838384 "
            ]
          },
          "metadata": {
            "tags": []
          }
        }
      ]
    },
    {
      "cell_type": "markdown",
      "metadata": {
        "id": "s5e9hRE0TAK3"
      },
      "source": [
        "**Primera prediccion (todos mueren)**"
      ]
    },
    {
      "cell_type": "code",
      "metadata": {
        "id": "2OSPalmmTEYB"
      },
      "source": [
        "test$Survived<- rep(0,418)\r\n",
        "\r\n",
        "submit<-data.frame(PassengerId=test$PassengerId,Survived=test$Survived)\r\n",
        "write.csv(submit, file = \"allDead.csv\", row.names = FALSE)"
      ],
      "execution_count": null,
      "outputs": []
    },
    {
      "cell_type": "markdown",
      "metadata": {
        "id": "D_HCepCNWQDd"
      },
      "source": [
        "**Porcentaje de supervivencia entre hombres y mujeres**"
      ]
    },
    {
      "cell_type": "code",
      "metadata": {
        "colab": {
          "base_uri": "https://localhost:8080/",
          "height": 85
        },
        "id": "FqSpaIFdWPsq",
        "outputId": "c683450e-a72e-4c3e-aadf-24f26954443a"
      },
      "source": [
        "prop.table(table(train$Survived,train$Sex),2)"
      ],
      "execution_count": null,
      "outputs": [
        {
          "output_type": "display_data",
          "data": {
            "text/plain": [
              "   \n",
              "       female      male\n",
              "  0 0.2579618 0.8110919\n",
              "  1 0.7420382 0.1889081"
            ]
          },
          "metadata": {
            "tags": []
          }
        }
      ]
    },
    {
      "cell_type": "markdown",
      "metadata": {
        "id": "wPIO9zqSbB-I"
      },
      "source": [
        "Del total de los hombres murió el 81.1% y de las mujeres murió el 25.8%"
      ]
    },
    {
      "cell_type": "markdown",
      "metadata": {
        "id": "qJQ26vdTbe2t"
      },
      "source": [
        "**Prediccion 2: hombres mueren, mujeres viven**"
      ]
    },
    {
      "cell_type": "code",
      "metadata": {
        "id": "c-SIVLR8beie"
      },
      "source": [
        "test$Survived<- rep(0,418)\r\n",
        "test$Survived[test$Sex==\"female\"]<-1\r\n",
        "submit<-data.frame(PassengerId=test$PassengerId,Survived=test$Survived)\r\n",
        "write.csv(submit, file = \"allDead.csv\", row.names = FALSE)"
      ],
      "execution_count": null,
      "outputs": []
    },
    {
      "cell_type": "markdown",
      "metadata": {
        "id": "Ly1LffWeg2Jo"
      },
      "source": [
        "**Mujeres y niños primero!!**"
      ]
    },
    {
      "cell_type": "code",
      "metadata": {
        "id": "-Qfyu4Ipg8cM"
      },
      "source": [
        "train$Age[is.na(train[\"Age\"])]=mean(train$Age[!is.na(train[\"Age\"])])\r\n",
        "summary(train$Age)\r\n",
        "\r\n",
        "train$Child<-0\r\n",
        "train$Child[train$Age<18]<-1\r\n",
        "train$Child <- factor(train$Child)\r\n",
        "\r\n",
        "test$Child <- 0\r\n",
        "test$Child[test$Age<18] <- 1\r\n",
        "test$Child <- factor(test$Child)\r\n",
        "\r\n",
        "table(train$Survived[train$Child==1])\r\n",
        "aggregate(Survived ~ Child + Sex, data=train, FUN= function(x) {sum(x)/length(x)})\r\n",
        "#prop.table(table(train$Survived[train$Child==1],train$Sex[train$Child==1]),2)"
      ],
      "execution_count": null,
      "outputs": []
    },
    {
      "cell_type": "markdown",
      "metadata": {
        "id": "YVyU0x0qXLKU"
      },
      "source": [
        "**Teniendo en cuenta el costo del tiquete y la clase**"
      ]
    },
    {
      "cell_type": "code",
      "metadata": {
        "id": "RfWFYABTY4fJ"
      },
      "source": [
        "test$FareBin<- rep(0,418)\r\n",
        "train$FareBin[train$Fare < 10] <- '<10'\r\n",
        "train$FareBin[train$Fare >= 10 & train$Fare<20] <- '10-20'\r\n",
        "train$FareBin[train$Fare >= 20] <- '20+'\r\n",
        "table(train$FareBin)\r\n",
        "aggregate(Survived ~ FareBin + Sex + Pclass, data=train, FUN= function(x) {sum(x)/length(x)})\r\n",
        "\r\n",
        "test$Survived<- rep(0,418)\r\n",
        "test$Survived[test$Sex==\"female\"]<-1\r\n",
        "test$Survived[test$Pclass==3 & test$FareBin=='20+']<-0\r\n",
        "submit<-data.frame(PassengerId=test$PassengerId,Survived=test$Survived)\r\n",
        "write.csv(submit, file = \"allDead.csv\", row.names = FALSE)"
      ],
      "execution_count": null,
      "outputs": []
    },
    {
      "cell_type": "code",
      "metadata": {
        "id": "m37ibqE8cAMr"
      },
      "source": [
        ")"
      ],
      "execution_count": null,
      "outputs": []
    }
  ]
}