{
  "nbformat": 4,
  "nbformat_minor": 0,
  "metadata": {
    "colab": {
      "name": "Proyecto Final Titanic",
      "provenance": [],
      "collapsed_sections": [],
      "authorship_tag": "ABX9TyMKX2NVBW6Skr2gtpX4OdaI",
      "include_colab_link": true
    },
    "kernelspec": {
      "name": "ir",
      "display_name": "R"
    }
  },
  "cells": [
    {
      "cell_type": "markdown",
      "metadata": {
        "id": "view-in-github",
        "colab_type": "text"
      },
      "source": [
        "<a href=\"https://colab.research.google.com/github/santiagoprado12/Titanic---Machine-Learning-from-Disaster/blob/main/Proyecto_Final_Titanic.ipynb\" target=\"_parent\"><img src=\"https://colab.research.google.com/assets/colab-badge.svg\" alt=\"Open In Colab\"/></a>"
      ]
    },
    {
      "cell_type": "code",
      "metadata": {
        "colab": {
          "base_uri": "https://localhost:8080/"
        },
        "id": "Y7sbtkfvrEKJ",
        "outputId": "f80ac63d-421b-41b0-cf60-624f6bfa025a"
      },
      "source": [
        "install.packages(\"ggplot2\")"
      ],
      "execution_count": 6,
      "outputs": [
        {
          "output_type": "stream",
          "text": [
            "Installing package into ‘/usr/local/lib/R/site-library’\n",
            "(as ‘lib’ is unspecified)\n",
            "\n"
          ],
          "name": "stderr"
        }
      ]
    },
    {
      "cell_type": "code",
      "metadata": {
        "id": "byWZQtrKrJgx"
      },
      "source": [
        "library(ggplot2)"
      ],
      "execution_count": 7,
      "outputs": []
    },
    {
      "cell_type": "markdown",
      "metadata": {
        "id": "2-J6X2viP4S1"
      },
      "source": [
        "**Subir archivos**"
      ]
    },
    {
      "cell_type": "code",
      "metadata": {
        "id": "4WunaNq4QBR3",
        "colab": {
          "base_uri": "https://localhost:8080/"
        },
        "outputId": "7d969179-b0de-4683-b912-8d103be68d0f"
      },
      "source": [
        "train<-read.csv(\"train.csv\",stringsAsFactors = FALSE)\r\n",
        "test<-read.csv(\"test.csv\",stringsAsFactors = FALSE)\r\n",
        "str(train)\r\n",
        "str(test)"
      ],
      "execution_count": 2,
      "outputs": [
        {
          "output_type": "stream",
          "text": [
            "'data.frame':\t891 obs. of  12 variables:\n",
            " $ PassengerId: int  1 2 3 4 5 6 7 8 9 10 ...\n",
            " $ Survived   : int  0 1 1 1 0 0 0 0 1 1 ...\n",
            " $ Pclass     : int  3 1 3 1 3 3 1 3 3 2 ...\n",
            " $ Name       : chr  \"Braund, Mr. Owen Harris\" \"Cumings, Mrs. John Bradley (Florence Briggs Thayer)\" \"Heikkinen, Miss. Laina\" \"Futrelle, Mrs. Jacques Heath (Lily May Peel)\" ...\n",
            " $ Sex        : chr  \"male\" \"female\" \"female\" \"female\" ...\n",
            " $ Age        : num  22 38 26 35 35 NA 54 2 27 14 ...\n",
            " $ SibSp      : int  1 1 0 1 0 0 0 3 0 1 ...\n",
            " $ Parch      : int  0 0 0 0 0 0 0 1 2 0 ...\n",
            " $ Ticket     : chr  \"A/5 21171\" \"PC 17599\" \"STON/O2. 3101282\" \"113803\" ...\n",
            " $ Fare       : num  7.25 71.28 7.92 53.1 8.05 ...\n",
            " $ Cabin      : chr  \"\" \"C85\" \"\" \"C123\" ...\n",
            " $ Embarked   : chr  \"S\" \"C\" \"S\" \"S\" ...\n",
            "'data.frame':\t418 obs. of  11 variables:\n",
            " $ PassengerId: int  892 893 894 895 896 897 898 899 900 901 ...\n",
            " $ Pclass     : int  3 3 2 3 3 3 3 2 3 3 ...\n",
            " $ Name       : chr  \"Kelly, Mr. James\" \"Wilkes, Mrs. James (Ellen Needs)\" \"Myles, Mr. Thomas Francis\" \"Wirz, Mr. Albert\" ...\n",
            " $ Sex        : chr  \"male\" \"female\" \"male\" \"male\" ...\n",
            " $ Age        : num  34.5 47 62 27 22 14 30 26 18 21 ...\n",
            " $ SibSp      : int  0 1 0 0 1 0 0 1 0 2 ...\n",
            " $ Parch      : int  0 0 0 0 1 0 0 1 0 0 ...\n",
            " $ Ticket     : chr  \"330911\" \"363272\" \"240276\" \"315154\" ...\n",
            " $ Fare       : num  7.83 7 9.69 8.66 12.29 ...\n",
            " $ Cabin      : chr  \"\" \"\" \"\" \"\" ...\n",
            " $ Embarked   : chr  \"Q\" \"S\" \"Q\" \"S\" ...\n"
          ],
          "name": "stdout"
        }
      ]
    },
    {
      "cell_type": "markdown",
      "metadata": {
        "id": "UGZ1yksnRcpP"
      },
      "source": [
        "**Proporcion de los sobrevivientes**"
      ]
    },
    {
      "cell_type": "code",
      "metadata": {
        "id": "HsqqCembRrpQ",
        "colab": {
          "base_uri": "https://localhost:8080/",
          "height": 119
        },
        "outputId": "0719bc72-daea-4e90-b1b5-2502016f2ed8"
      },
      "source": [
        "table(train$Survived)\r\n",
        "prop.table(table(train$Survived))"
      ],
      "execution_count": null,
      "outputs": [
        {
          "output_type": "display_data",
          "data": {
            "text/plain": [
              "\n",
              "  0   1 \n",
              "549 342 "
            ]
          },
          "metadata": {
            "tags": []
          }
        },
        {
          "output_type": "display_data",
          "data": {
            "text/plain": [
              "\n",
              "        0         1 \n",
              "0.6161616 0.3838384 "
            ]
          },
          "metadata": {
            "tags": []
          }
        }
      ]
    },
    {
      "cell_type": "markdown",
      "metadata": {
        "id": "s5e9hRE0TAK3"
      },
      "source": [
        "**Primera prediccion (todos mueren)**"
      ]
    },
    {
      "cell_type": "code",
      "metadata": {
        "id": "2OSPalmmTEYB"
      },
      "source": [
        "test$Survived<- rep(0,418)\r\n",
        "\r\n",
        "submit<-data.frame(PassengerId=test$PassengerId,Survived=test$Survived)\r\n",
        "write.csv(submit, file = \"allDead.csv\", row.names = FALSE)"
      ],
      "execution_count": null,
      "outputs": []
    },
    {
      "cell_type": "markdown",
      "metadata": {
        "id": "D_HCepCNWQDd"
      },
      "source": [
        "**Porcentaje de supervivencia entre hombres y mujeres**"
      ]
    },
    {
      "cell_type": "code",
      "metadata": {
        "colab": {
          "base_uri": "https://localhost:8080/",
          "height": 85
        },
        "id": "FqSpaIFdWPsq",
        "outputId": "c683450e-a72e-4c3e-aadf-24f26954443a"
      },
      "source": [
        "prop.table(table(train$Survived,train$Sex),2)"
      ],
      "execution_count": null,
      "outputs": [
        {
          "output_type": "display_data",
          "data": {
            "text/plain": [
              "   \n",
              "       female      male\n",
              "  0 0.2579618 0.8110919\n",
              "  1 0.7420382 0.1889081"
            ]
          },
          "metadata": {
            "tags": []
          }
        }
      ]
    },
    {
      "cell_type": "markdown",
      "metadata": {
        "id": "wPIO9zqSbB-I"
      },
      "source": [
        "Del total de los hombres murió el 81.1% y de las mujeres murió el 25.8%"
      ]
    },
    {
      "cell_type": "markdown",
      "metadata": {
        "id": "qJQ26vdTbe2t"
      },
      "source": [
        "**Prediccion 2: hombres mueren, mujeres viven**"
      ]
    },
    {
      "cell_type": "code",
      "metadata": {
        "id": "c-SIVLR8beie"
      },
      "source": [
        "test$Survived<- rep(0,418)\r\n",
        "test$Survived[test$Sex==\"female\"]<-1\r\n",
        "submit<-data.frame(PassengerId=test$PassengerId,Survived=test$Survived)\r\n",
        "write.csv(submit, file = \"allDead.csv\", row.names = FALSE)"
      ],
      "execution_count": null,
      "outputs": []
    },
    {
      "cell_type": "markdown",
      "metadata": {
        "id": "Ly1LffWeg2Jo"
      },
      "source": [
        "**Mujeres y niños primero!!**"
      ]
    },
    {
      "cell_type": "code",
      "metadata": {
        "id": "-Qfyu4Ipg8cM"
      },
      "source": [
        "train$Age[is.na(train[\"Age\"])]=mean(train$Age[!is.na(train[\"Age\"])])\r\n",
        "summary(train$Age)\r\n",
        "\r\n",
        "train$Child<-0\r\n",
        "train$Child[train$Age<18]<-1\r\n",
        "train$Child <- factor(train$Child)\r\n",
        "\r\n",
        "test$Child <- 0\r\n",
        "test$Child[test$Age<18] <- 1\r\n",
        "test$Child <- factor(test$Child)\r\n",
        "\r\n",
        "table(train$Survived[train$Child==1])\r\n",
        "aggregate(Survived ~ Child + Sex, data=train, FUN= function(x) {sum(x)/length(x)})\r\n",
        "#prop.table(table(train$Survived[train$Child==1],train$Sex[train$Child==1]),2)"
      ],
      "execution_count": null,
      "outputs": []
    },
    {
      "cell_type": "markdown",
      "metadata": {
        "id": "YVyU0x0qXLKU"
      },
      "source": [
        "**Teniendo en cuenta el costo del tiquete y la clase**"
      ]
    },
    {
      "cell_type": "code",
      "metadata": {
        "id": "RfWFYABTY4fJ"
      },
      "source": [
        "test$FareBin<- rep(0,418)\r\n",
        "train$FareBin[train$Fare < 10] <- '<10'\r\n",
        "train$FareBin[train$Fare >= 10 & train$Fare<20] <- '10-20'\r\n",
        "train$FareBin[train$Fare >= 20] <- '20+'\r\n",
        "table(train$FareBin)\r\n",
        "aggregate(Survived ~ FareBin + Sex + Pclass, data=train, FUN= function(x) {sum(x)/length(x)})\r\n",
        "\r\n",
        "test$Survived<- rep(0,418)\r\n",
        "test$Survived[test$Sex==\"female\"]<-1\r\n",
        "test$Survived[test$Pclass==3 & test$FareBin=='20+']<-0\r\n",
        "submit<-data.frame(PassengerId=test$PassengerId,Survived=test$Survived)\r\n",
        "write.csv(submit, file = \"allDead.csv\", row.names = FALSE)"
      ],
      "execution_count": null,
      "outputs": []
    },
    {
      "cell_type": "markdown",
      "metadata": {
        "id": "3iAKM5_XbPyT"
      },
      "source": [
        "**Teniendo en cuenta el titulo de la persona**"
      ]
    },
    {
      "cell_type": "code",
      "metadata": {
        "id": "m37ibqE8cAMr",
        "colab": {
          "base_uri": "https://localhost:8080/",
          "height": 68
        },
        "outputId": "c5981542-d045-40d3-c537-002d7fae3ba9"
      },
      "source": [
        " train$Title<-0\r\n",
        " \r\n",
        "train$Title<-sapply(train$PassengerId, FUN=function(x){strsplit(train$Name, split='[,.]')[[x]][2]})\r\n",
        "train$Title<-sub(\" \",\"\", train$Title)\r\n",
        "train$Title[train$Title==\"Mlle\"]<-\"Miss\"\r\n",
        " train$Title[train$Title==\"Mme\"]<-\"Mrs\"\r\n",
        "train$Title[train$Title==\"Lady\"]<-\"Miss\" \r\n",
        "train$Title[train$Title==\"Capt\"]<-\"Master\"\r\n",
        "train$Title[train$Title==\"Don\"]<-\"Mr\"\r\n",
        "train$Title[train$Title==\"Dr\"]<-\"Mr\"\r\n",
        "train$Title[train$Title==\"Ms\"]<-\"Miss\"  \r\n",
        "train$Title[train$Title==\"Jonkheer\"]<-\"Mr\"  \r\n",
        "train$Title[train$Title==\"Sir\"]<-\"Mr\" \r\n",
        "train$Title[train$Title==\"Major\"]<-\"Master\"  \r\n",
        "train$Title[train$Title==\"Col\"]<-\"Master\"  \r\n",
        "train$Title[train$Title==\"Rev\"]<-\"Master\"\r\n",
        "train$Title[train$Title==\"the Countess\"]<-\"Mrs\"\r\n",
        "table(train$Title)"
      ],
      "execution_count": null,
      "outputs": [
        {
          "output_type": "display_data",
          "data": {
            "text/plain": [
              "\n",
              "Master   Miss     Mr    Mrs \n",
              "    51    186    527    127 "
            ]
          },
          "metadata": {
            "tags": []
          }
        }
      ]
    },
    {
      "cell_type": "markdown",
      "metadata": {
        "id": "1kRw7n5voJn3"
      },
      "source": [
        "**Teniendo en cuenta el tamaño de la familia**\r\n"
      ]
    },
    {
      "cell_type": "code",
      "metadata": {
        "colab": {
          "base_uri": "https://localhost:8080/",
          "height": 863
        },
        "id": "112fE2PLfPe9",
        "outputId": "5a23ecb9-cafa-4dfd-e8d9-5b2de081e108"
      },
      "source": [
        " train$FamilySize<-0\r\n",
        "\r\n",
        " train$FamilySize<-train$SibSp+train$Parch+1\r\n",
        "\r\n",
        "print(\"female: \")\r\n",
        "prop.table(table(train$FamilySize[train$Sex=='female'],train$Survived[train$Sex=='female']),1)\r\n",
        "print('male: ')\r\n",
        "prop.table(table(train$FamilySize[train$Sex=='male'],train$Survived[train$Sex=='male']),1)\r\n",
        "ggplot(train, aes(x =FamilySize, fill = factor(Survived)))+ geom_bar(stat='count', position='dodge')+scale_x_continuous(breaks=c(1:max(train$FamilySize)))+labs(x = 'Textoetiqueta') + facet_grid(.~Sex)+ theme_minimal()"
      ],
      "execution_count": 25,
      "outputs": [
        {
          "output_type": "stream",
          "text": [
            "[1] \"female: \"\n"
          ],
          "name": "stdout"
        },
        {
          "output_type": "display_data",
          "data": {
            "text/plain": [
              "    \n",
              "             0         1\n",
              "  1  0.2142857 0.7857143\n",
              "  2  0.1839080 0.8160920\n",
              "  3  0.2244898 0.7755102\n",
              "  4  0.1578947 0.8421053\n",
              "  5  0.7500000 0.2500000\n",
              "  6  0.6250000 0.3750000\n",
              "  7  0.6250000 0.3750000\n",
              "  8  1.0000000 0.0000000\n",
              "  11 1.0000000 0.0000000"
            ]
          },
          "metadata": {
            "tags": []
          }
        },
        {
          "output_type": "stream",
          "text": [
            "[1] \"male: \"\n"
          ],
          "name": "stdout"
        },
        {
          "output_type": "display_data",
          "data": {
            "text/plain": [
              "    \n",
              "             0         1\n",
              "  1  0.8442822 0.1557178\n",
              "  2  0.7567568 0.2432432\n",
              "  3  0.6037736 0.3962264\n",
              "  4  0.5000000 0.5000000\n",
              "  5  1.0000000 0.0000000\n",
              "  6  1.0000000 0.0000000\n",
              "  7  0.7500000 0.2500000\n",
              "  8  1.0000000 0.0000000\n",
              "  11 1.0000000 0.0000000"
            ]
          },
          "metadata": {
            "tags": []
          }
        },
        {
          "output_type": "display_data",
          "data": {
            "image/png": "[encoded data removed]",
            "text/plain": [
              "plot without title"
            ]
          },
          "metadata": {
            "tags": [],
            "image/png": {
              "width": 420,
              "height": 420
            }
          }
        }
      ]
    }
  ]
}